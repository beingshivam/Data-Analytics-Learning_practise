{
  "nbformat": 4,
  "nbformat_minor": 0,
  "metadata": {
    "colab": {
      "name": "imdb_data.ipynb",
      "provenance": [],
      "collapsed_sections": [],
      "include_colab_link": true
    },
    "kernelspec": {
      "name": "python3",
      "display_name": "Python 3"
    }
  },
  "cells": [
    {
      "cell_type": "markdown",
      "metadata": {
        "id": "view-in-github",
        "colab_type": "text"
      },
      "source": [
        "<a href=\"https://colab.research.google.com/github/beingshivam/Data-Analytics-Learning_practise/blob/master/imdb_data.ipynb\" target=\"_parent\"><img src=\"https://colab.research.google.com/assets/colab-badge.svg\" alt=\"Open In Colab\"/></a>"
      ]
    },
    {
      "cell_type": "code",
      "metadata": {
        "id": "5HQQrec4zJdx",
        "colab_type": "code",
        "colab": {}
      },
      "source": [
        "import pandas as pd\n",
        "import numpy as np"
      ],
      "execution_count": 0,
      "outputs": []
    },
    {
      "cell_type": "code",
      "metadata": {
        "id": "kG7mE8h1zkaF",
        "colab_type": "code",
        "colab": {}
      },
      "source": [
        "imdb = pd.read_csv('IMDB_data.csv', skiprows= [1])"
      ],
      "execution_count": 0,
      "outputs": []
    },
    {
      "cell_type": "code",
      "metadata": {
        "id": "g3OsIhMa9_g8",
        "colab_type": "code",
        "colab": {}
      },
      "source": [
        "#drop null values\n",
        "imdb.dropna(inplace=True)"
      ],
      "execution_count": 0,
      "outputs": []
    },
    {
      "cell_type": "code",
      "metadata": {
        "id": "Cc3RoQlSzpWm",
        "colab_type": "code",
        "colab": {
          "base_uri": "https://localhost:8080/",
          "height": 534
        },
        "outputId": "5eb696fd-3016-4f83-fc27-5ce892539df4"
      },
      "source": [
        "imdb.head(5)"
      ],
      "execution_count": 68,
      "outputs": [
        {
          "output_type": "execute_result",
          "data": {
            "text/html": [
              "<div>\n",
              "<style scoped>\n",
              "    .dataframe tbody tr th:only-of-type {\n",
              "        vertical-align: middle;\n",
              "    }\n",
              "\n",
              "    .dataframe tbody tr th {\n",
              "        vertical-align: top;\n",
              "    }\n",
              "\n",
              "    .dataframe thead th {\n",
              "        text-align: right;\n",
              "    }\n",
              "</style>\n",
              "<table border=\"1\" class=\"dataframe\">\n",
              "  <thead>\n",
              "    <tr style=\"text-align: right;\">\n",
              "      <th></th>\n",
              "      <th>Plot</th>\n",
              "      <th>Title</th>\n",
              "      <th>imdbVotes</th>\n",
              "      <th>Poster</th>\n",
              "      <th>imdbRating</th>\n",
              "      <th>Genre</th>\n",
              "      <th>imdbID</th>\n",
              "      <th>Year</th>\n",
              "      <th>Language</th>\n",
              "    </tr>\n",
              "  </thead>\n",
              "  <tbody>\n",
              "    <tr>\n",
              "      <th>0</th>\n",
              "      <td>Despite his tarnished reputation after the eve...</td>\n",
              "      <td>The Dark Knight Rises</td>\n",
              "      <td>2679</td>\n",
              "      <td>http://ia.media-imdb.com/images/M/MV5BMTk4ODQz...</td>\n",
              "      <td>75</td>\n",
              "      <td>Action, Thriller</td>\n",
              "      <td>tt1345836</td>\n",
              "      <td>2012</td>\n",
              "      <td>English</td>\n",
              "    </tr>\n",
              "    <tr>\n",
              "      <th>2</th>\n",
              "      <td>0</td>\n",
              "      <td>0</td>\n",
              "      <td>0</td>\n",
              "      <td>0</td>\n",
              "      <td>0</td>\n",
              "      <td>0</td>\n",
              "      <td>0</td>\n",
              "      <td>0</td>\n",
              "      <td>0</td>\n",
              "    </tr>\n",
              "    <tr>\n",
              "      <th>4</th>\n",
              "      <td>Based on the novel written by Stephen Chbosky,...</td>\n",
              "      <td>The Perks of Being a Wallflower</td>\n",
              "      <td>1270</td>\n",
              "      <td>http://ia.media-imdb.com/images/M/MV5BMzIxOTQy...</td>\n",
              "      <td>71</td>\n",
              "      <td>Drama, Romance</td>\n",
              "      <td>tt1659337</td>\n",
              "      <td>2012</td>\n",
              "      <td>English</td>\n",
              "    </tr>\n",
              "    <tr>\n",
              "      <th>6</th>\n",
              "      <td>Mike Lane is a thirty-year old living in Tampa...</td>\n",
              "      <td>Magic Mike</td>\n",
              "      <td>2580</td>\n",
              "      <td>http://ia.media-imdb.com/images/M/MV5BMTQzMDMz...</td>\n",
              "      <td>51</td>\n",
              "      <td>Comedy, Drama</td>\n",
              "      <td>tt1915581</td>\n",
              "      <td>2012</td>\n",
              "      <td>English</td>\n",
              "    </tr>\n",
              "    <tr>\n",
              "      <th>8</th>\n",
              "      <td>When Bond's latest assignment goes gravely wro...</td>\n",
              "      <td>Skyfall</td>\n",
              "      <td>1807</td>\n",
              "      <td>http://ia.media-imdb.com/images/M/MV5BMjAyODkz...</td>\n",
              "      <td>68</td>\n",
              "      <td>Action, Thriller</td>\n",
              "      <td>tt1074638</td>\n",
              "      <td>2012</td>\n",
              "      <td>English</td>\n",
              "    </tr>\n",
              "  </tbody>\n",
              "</table>\n",
              "</div>"
            ],
            "text/plain": [
              "                                                Plot  ...                     Language\n",
              "0  Despite his tarnished reputation after the eve...  ...  English                    \n",
              "2                                                  0  ...                            0\n",
              "4  Based on the novel written by Stephen Chbosky,...  ...    English                  \n",
              "6  Mike Lane is a thirty-year old living in Tampa...  ...    English                  \n",
              "8  When Bond's latest assignment goes gravely wro...  ...    English                  \n",
              "\n",
              "[5 rows x 9 columns]"
            ]
          },
          "metadata": {
            "tags": []
          },
          "execution_count": 68
        }
      ]
    },
    {
      "cell_type": "code",
      "metadata": {
        "id": "SAyw38x71lRB",
        "colab_type": "code",
        "colab": {
          "base_uri": "https://localhost:8080/",
          "height": 295
        },
        "outputId": "9af659e6-5392-4360-878e-4c65655d13cc"
      },
      "source": [
        "imdb.describe()"
      ],
      "execution_count": 69,
      "outputs": [
        {
          "output_type": "execute_result",
          "data": {
            "text/html": [
              "<div>\n",
              "<style scoped>\n",
              "    .dataframe tbody tr th:only-of-type {\n",
              "        vertical-align: middle;\n",
              "    }\n",
              "\n",
              "    .dataframe tbody tr th {\n",
              "        vertical-align: top;\n",
              "    }\n",
              "\n",
              "    .dataframe thead th {\n",
              "        text-align: right;\n",
              "    }\n",
              "</style>\n",
              "<table border=\"1\" class=\"dataframe\">\n",
              "  <thead>\n",
              "    <tr style=\"text-align: right;\">\n",
              "      <th></th>\n",
              "      <th>Plot</th>\n",
              "      <th>Title</th>\n",
              "      <th>imdbVotes</th>\n",
              "      <th>Poster</th>\n",
              "      <th>imdbRating</th>\n",
              "      <th>Genre</th>\n",
              "      <th>imdbID</th>\n",
              "      <th>Year</th>\n",
              "      <th>Language</th>\n",
              "    </tr>\n",
              "  </thead>\n",
              "  <tbody>\n",
              "    <tr>\n",
              "      <th>count</th>\n",
              "      <td>1832</td>\n",
              "      <td>1832</td>\n",
              "      <td>1832</td>\n",
              "      <td>1832</td>\n",
              "      <td>1832</td>\n",
              "      <td>1832</td>\n",
              "      <td>1832</td>\n",
              "      <td>1832</td>\n",
              "      <td>1832</td>\n",
              "    </tr>\n",
              "    <tr>\n",
              "      <th>unique</th>\n",
              "      <td>1827</td>\n",
              "      <td>1827</td>\n",
              "      <td>791</td>\n",
              "      <td>1778</td>\n",
              "      <td>74</td>\n",
              "      <td>203</td>\n",
              "      <td>1827</td>\n",
              "      <td>77</td>\n",
              "      <td>5</td>\n",
              "    </tr>\n",
              "    <tr>\n",
              "      <th>top</th>\n",
              "      <td>Free-thinking Johnny Case finds himself betrot...</td>\n",
              "      <td>Baadshah</td>\n",
              "      <td>2718</td>\n",
              "      <td>http://i.media-imdb.com/images/SF1f0a42ee1aa08...</td>\n",
              "      <td>87</td>\n",
              "      <td>Drama</td>\n",
              "      <td>tt0461936</td>\n",
              "      <td>2014</td>\n",
              "      <td>English</td>\n",
              "    </tr>\n",
              "    <tr>\n",
              "      <th>freq</th>\n",
              "      <td>2</td>\n",
              "      <td>2</td>\n",
              "      <td>486</td>\n",
              "      <td>52</td>\n",
              "      <td>486</td>\n",
              "      <td>348</td>\n",
              "      <td>2</td>\n",
              "      <td>520</td>\n",
              "      <td>1535</td>\n",
              "    </tr>\n",
              "  </tbody>\n",
              "</table>\n",
              "</div>"
            ],
            "text/plain": [
              "                                                     Plot  ...                   Language\n",
              "count                                                1832  ...                       1832\n",
              "unique                                               1827  ...                          5\n",
              "top     Free-thinking Johnny Case finds himself betrot...  ...  English                  \n",
              "freq                                                    2  ...                       1535\n",
              "\n",
              "[4 rows x 9 columns]"
            ]
          },
          "metadata": {
            "tags": []
          },
          "execution_count": 69
        }
      ]
    },
    {
      "cell_type": "code",
      "metadata": {
        "id": "gV4XkjXE2MEX",
        "colab_type": "code",
        "colab": {
          "base_uri": "https://localhost:8080/",
          "height": 260
        },
        "outputId": "7464fbba-4325-4c1a-c5ad-55cfc31b0720"
      },
      "source": [
        "imdb.info()"
      ],
      "execution_count": 70,
      "outputs": [
        {
          "output_type": "stream",
          "text": [
            "<class 'pandas.core.frame.DataFrame'>\n",
            "Int64Index: 1832 entries, 0 to 6740\n",
            "Data columns (total 9 columns):\n",
            "Plot          1832 non-null object\n",
            "Title         1832 non-null object\n",
            "imdbVotes     1832 non-null object\n",
            "Poster        1832 non-null object\n",
            "imdbRating    1832 non-null object\n",
            "Genre         1832 non-null object\n",
            "imdbID        1832 non-null object\n",
            "Year          1832 non-null object\n",
            "Language      1832 non-null object\n",
            "dtypes: object(9)\n",
            "memory usage: 143.1+ KB\n"
          ],
          "name": "stdout"
        }
      ]
    },
    {
      "cell_type": "code",
      "metadata": {
        "id": "lNptB-io30uY",
        "colab_type": "code",
        "colab": {
          "base_uri": "https://localhost:8080/",
          "height": 69
        },
        "outputId": "6bba560e-8186-4ee2-fe9a-d93fdb87a2a9"
      },
      "source": [
        "imdb.columns"
      ],
      "execution_count": 71,
      "outputs": [
        {
          "output_type": "execute_result",
          "data": {
            "text/plain": [
              "Index(['Plot', 'Title', 'imdbVotes', 'Poster', 'imdbRating', 'Genre', 'imdbID',\n",
              "       'Year', 'Language'],\n",
              "      dtype='object')"
            ]
          },
          "metadata": {
            "tags": []
          },
          "execution_count": 71
        }
      ]
    },
    {
      "cell_type": "code",
      "metadata": {
        "id": "EbB8XA0L4RCn",
        "colab_type": "code",
        "colab": {
          "base_uri": "https://localhost:8080/",
          "height": 35
        },
        "outputId": "34c054d1-ab7c-4a81-cab1-1ff603c08ff5"
      },
      "source": [
        "imdb.shape"
      ],
      "execution_count": 72,
      "outputs": [
        {
          "output_type": "execute_result",
          "data": {
            "text/plain": [
              "(1832, 9)"
            ]
          },
          "metadata": {
            "tags": []
          },
          "execution_count": 72
        }
      ]
    },
    {
      "cell_type": "code",
      "metadata": {
        "id": "p46F-G6Y4SAq",
        "colab_type": "code",
        "colab": {
          "base_uri": "https://localhost:8080/",
          "height": 35
        },
        "outputId": "33f1d596-48c9-43ac-e6b8-eb9b1b60cb5a"
      },
      "source": [
        "imdb.size"
      ],
      "execution_count": 73,
      "outputs": [
        {
          "output_type": "execute_result",
          "data": {
            "text/plain": [
              "16488"
            ]
          },
          "metadata": {
            "tags": []
          },
          "execution_count": 73
        }
      ]
    },
    {
      "cell_type": "code",
      "metadata": {
        "id": "00V31cYb4Tk6",
        "colab_type": "code",
        "colab": {}
      },
      "source": [
        "#Unique Genres\n",
        "\n",
        "Genres = imdb.Genre.unique()"
      ],
      "execution_count": 0,
      "outputs": []
    },
    {
      "cell_type": "code",
      "metadata": {
        "id": "uQH-ndwO4stS",
        "colab_type": "code",
        "colab": {
          "base_uri": "https://localhost:8080/",
          "height": 35
        },
        "outputId": "e42e5307-941e-4150-9936-41d04a0fab52"
      },
      "source": [
        "#total unique Genres\n",
        "len(Genres)"
      ],
      "execution_count": 75,
      "outputs": [
        {
          "output_type": "execute_result",
          "data": {
            "text/plain": [
              "203"
            ]
          },
          "metadata": {
            "tags": []
          },
          "execution_count": 75
        }
      ]
    },
    {
      "cell_type": "code",
      "metadata": {
        "id": "BVfGwPte5zrh",
        "colab_type": "code",
        "colab": {
          "base_uri": "https://localhost:8080/",
          "height": 35
        },
        "outputId": "f903c9f0-c85e-45d9-e028-453454a54d12"
      },
      "source": [
        "#Genres index keys\n",
        "\n",
        "Genres[0]"
      ],
      "execution_count": 76,
      "outputs": [
        {
          "output_type": "execute_result",
          "data": {
            "text/plain": [
              "'Action, Thriller'"
            ]
          },
          "metadata": {
            "tags": []
          },
          "execution_count": 76
        }
      ]
    },
    {
      "cell_type": "code",
      "metadata": {
        "id": "28oMlmE_5-dX",
        "colab_type": "code",
        "colab": {
          "base_uri": "https://localhost:8080/",
          "height": 191
        },
        "outputId": "aee18b6c-76cd-400b-87f4-590365a1e5b9"
      },
      "source": [
        "imdb.dtypes"
      ],
      "execution_count": 80,
      "outputs": [
        {
          "output_type": "execute_result",
          "data": {
            "text/plain": [
              "Plot          object\n",
              "Title         object\n",
              "imdbVotes     object\n",
              "Poster        object\n",
              "imdbRating    object\n",
              "Genre         object\n",
              "imdbID        object\n",
              "Year          object\n",
              "Language      object\n",
              "dtype: object"
            ]
          },
          "metadata": {
            "tags": []
          },
          "execution_count": 80
        }
      ]
    },
    {
      "cell_type": "code",
      "metadata": {
        "id": "JZRb42076C7p",
        "colab_type": "code",
        "colab": {}
      },
      "source": [
        "#changing datatype of imdbVotes column -> 1: Some values contain ',' so we need to remove them 1st\n",
        "\n",
        "#imdb['imdbVotes'] = imdb['imdbVotes'].astype(int)\n",
        "\n",
        "imdb.imdbVotes = imdb.imdbVotes.replace([','], [''], regex=True)\n",
        "    "
      ],
      "execution_count": 0,
      "outputs": []
    },
    {
      "cell_type": "code",
      "metadata": {
        "id": "kCG3BBEU8sG4",
        "colab_type": "code",
        "colab": {}
      },
      "source": [
        "imdb['imdbVotes'] = imdb['imdbVotes'].astype(float)\n"
      ],
      "execution_count": 0,
      "outputs": []
    },
    {
      "cell_type": "code",
      "metadata": {
        "id": "npZkQX0Y9kE2",
        "colab_type": "code",
        "colab": {
          "base_uri": "https://localhost:8080/",
          "height": 191
        },
        "outputId": "9628a8fb-50b9-444e-8d63-dd8568aa6fd3"
      },
      "source": [
        "imdb.dtypes"
      ],
      "execution_count": 113,
      "outputs": [
        {
          "output_type": "execute_result",
          "data": {
            "text/plain": [
              "Plot           object\n",
              "Title          object\n",
              "imdbVotes     float64\n",
              "Poster         object\n",
              "imdbRating    float16\n",
              "Genre          object\n",
              "imdbID         object\n",
              "Year           object\n",
              "Language       object\n",
              "dtype: object"
            ]
          },
          "metadata": {
            "tags": []
          },
          "execution_count": 113
        }
      ]
    },
    {
      "cell_type": "code",
      "metadata": {
        "id": "Zu2EZAZk9znc",
        "colab_type": "code",
        "colab": {}
      },
      "source": [
        "#changing dtype of imdb Rating column -> float16\n",
        "\n",
        "imdb['imdbRating'] = imdb['imdbRating'].astype(float)"
      ],
      "execution_count": 0,
      "outputs": []
    },
    {
      "cell_type": "code",
      "metadata": {
        "id": "0e6VGwlL913s",
        "colab_type": "code",
        "colab": {
          "base_uri": "https://localhost:8080/",
          "height": 191
        },
        "outputId": "35197035-c0c0-4cb8-f4b0-61b73c3a4104"
      },
      "source": [
        "imdb.dtypes"
      ],
      "execution_count": 115,
      "outputs": [
        {
          "output_type": "execute_result",
          "data": {
            "text/plain": [
              "Plot           object\n",
              "Title          object\n",
              "imdbVotes     float64\n",
              "Poster         object\n",
              "imdbRating    float64\n",
              "Genre          object\n",
              "imdbID         object\n",
              "Year           object\n",
              "Language       object\n",
              "dtype: object"
            ]
          },
          "metadata": {
            "tags": []
          },
          "execution_count": 115
        }
      ]
    },
    {
      "cell_type": "code",
      "metadata": {
        "id": "gfSOGE7pF6ig",
        "colab_type": "code",
        "colab": {
          "base_uri": "https://localhost:8080/",
          "height": 1000
        },
        "outputId": "92a9c5b0-b5ee-48e7-e025-ed2e2b07a6c3"
      },
      "source": [
        "#sort the Genres by name\n",
        "\n",
        "imdb['Genre'].sort_values()"
      ],
      "execution_count": 116,
      "outputs": [
        {
          "output_type": "execute_result",
          "data": {
            "text/plain": [
              "2                                                       0\n",
              "2516                                               Action\n",
              "4520                                               Action\n",
              "870                                                Action\n",
              "2286                                               Action\n",
              "1898                                               Action\n",
              "5078                                               Action\n",
              "5608                                               Action\n",
              "738                                                Action\n",
              "1844                                               Action\n",
              "5352                                               Action\n",
              "5058                                               Action\n",
              "2622                                               Action\n",
              "3230                                               Action\n",
              "5176                                               Action\n",
              "1194                                               Action\n",
              "598                                                Action\n",
              "3690                                               Action\n",
              "5052                                               Action\n",
              "1386                                    Action, Adventure\n",
              "5856                                    Action, Adventure\n",
              "6100    Action, Adventure, Biography, Drama, History, ...\n",
              "6066            Action, Adventure, Comedy, Crime, Musical\n",
              "6190    Action, Adventure, Comedy, Drama, Fantasy, Mus...\n",
              "6310    Action, Adventure, Comedy, Drama, Musical, Thr...\n",
              "6044                    Action, Adventure, Comedy, Horror\n",
              "5922         Action, Adventure, Comedy, Romance, Thriller\n",
              "6398                      Action, Adventure, Crime, Drama\n",
              "6302              Action, Adventure, Crime, Drama, Family\n",
              "6298            Action, Adventure, Crime, Drama, Thriller\n",
              "                              ...                        \n",
              "2198                                    Mystery, Thriller\n",
              "4278                                    Mystery, Thriller\n",
              "1446                                    Mystery, Thriller\n",
              "5688                                    Mystery, Thriller\n",
              "400                                     Mystery, Thriller\n",
              "5288                                    Mystery, Thriller\n",
              "2558                                    Mystery, Thriller\n",
              "364                                     Mystery, Thriller\n",
              "4572                                    Mystery, Thriller\n",
              "6126                                    Mystery, Thriller\n",
              "6144                                      Romance, Sci-Fi\n",
              "868                                                Sci-Fi\n",
              "2646                                               Sci-Fi\n",
              "2252                                               Sci-Fi\n",
              "3430                                               Sci-Fi\n",
              "1440                                               Sci-Fi\n",
              "6304                                               Sci-Fi\n",
              "3196                                               Sci-Fi\n",
              "5072                                               Sci-Fi\n",
              "272                                                Sci-Fi\n",
              "3850                                               Sci-Fi\n",
              "5452                                               Sci-Fi\n",
              "6084                                                Sport\n",
              "2984                                                Sport\n",
              "3272                                                Sport\n",
              "5534                                                Sport\n",
              "1278                                                Sport\n",
              "3240                                                Sport\n",
              "5896                                    Thriller, Mystery\n",
              "6158                                  War, Drama, Romance\n",
              "Name: Genre, Length: 1832, dtype: object"
            ]
          },
          "metadata": {
            "tags": []
          },
          "execution_count": 116
        }
      ]
    },
    {
      "cell_type": "code",
      "metadata": {
        "id": "0m2Qm-DTF_cE",
        "colab_type": "code",
        "colab": {}
      },
      "source": [
        "#e.\tCreate new variable whose values should be square of difference between imdbrating and imdbvotes.\n",
        "\n",
        "df_var = (imdb['imdbRating'] - imdb['imdbVotes'])**2"
      ],
      "execution_count": 0,
      "outputs": []
    },
    {
      "cell_type": "code",
      "metadata": {
        "id": "cTs-o43hIaOA",
        "colab_type": "code",
        "colab": {
          "base_uri": "https://localhost:8080/",
          "height": 1000
        },
        "outputId": "2fc0972a-2290-4f5d-8a21-cd652742f2e6"
      },
      "source": [
        "df_var"
      ],
      "execution_count": 120,
      "outputs": [
        {
          "output_type": "execute_result",
          "data": {
            "text/plain": [
              "0       6.786025e+06\n",
              "2       0.000000e+00\n",
              "4       1.437601e+06\n",
              "6       6.395841e+06\n",
              "8       3.024121e+06\n",
              "10      3.097600e+06\n",
              "12      2.184484e+06\n",
              "14      6.911641e+06\n",
              "16      3.129361e+06\n",
              "18      4.153444e+06\n",
              "20      3.240000e+06\n",
              "22      6.922161e+06\n",
              "24      6.922161e+06\n",
              "38      2.890000e+06\n",
              "46      6.922161e+06\n",
              "50      1.094116e+06\n",
              "54      6.922161e+06\n",
              "56      5.736025e+06\n",
              "60      6.922161e+06\n",
              "62      6.922161e+06\n",
              "64      4.206601e+06\n",
              "66      3.101121e+06\n",
              "68      4.986289e+06\n",
              "70      5.909761e+06\n",
              "72      4.145296e+06\n",
              "74      3.323329e+06\n",
              "78      1.243225e+06\n",
              "80      6.922161e+06\n",
              "84      6.906384e+06\n",
              "88      6.922161e+06\n",
              "            ...     \n",
              "6398    1.747658e+07\n",
              "6400    1.204916e+09\n",
              "6402    1.294591e+06\n",
              "6410    3.041536e+06\n",
              "6456    2.598519e+04\n",
              "6466    3.475982e+06\n",
              "6482    2.108883e+06\n",
              "6484    1.166400e+04\n",
              "6502    6.288614e+03\n",
              "6508    1.180262e+06\n",
              "6510    1.566583e+05\n",
              "6514    5.190336e+07\n",
              "6516    1.015466e+06\n",
              "6518    4.575307e+07\n",
              "6546    4.595865e+06\n",
              "6552    1.263148e+06\n",
              "6554    3.014049e+06\n",
              "6558    1.194214e+06\n",
              "6560    9.790005e+06\n",
              "6574    1.383684e+06\n",
              "6588    7.329099e+05\n",
              "6602    8.443111e+06\n",
              "6626    2.075333e+06\n",
              "6640    8.202407e+04\n",
              "6652    5.369883e+06\n",
              "6668    6.888533e+06\n",
              "6682    3.927519e+05\n",
              "6706    2.159454e+05\n",
              "6728    4.191247e+05\n",
              "6740    2.007110e+03\n",
              "Length: 1832, dtype: float64"
            ]
          },
          "metadata": {
            "tags": []
          },
          "execution_count": 120
        }
      ]
    },
    {
      "cell_type": "code",
      "metadata": {
        "id": "qe07xXwEI2Sz",
        "colab_type": "code",
        "colab": {}
      },
      "source": [
        ""
      ],
      "execution_count": 0,
      "outputs": []
    }
  ]
}